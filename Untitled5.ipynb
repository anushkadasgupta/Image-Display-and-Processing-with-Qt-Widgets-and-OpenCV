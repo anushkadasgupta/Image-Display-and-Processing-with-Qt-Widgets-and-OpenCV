{
  "nbformat": 4,
  "nbformat_minor": 0,
  "metadata": {
    "colab": {
      "provenance": [],
      "authorship_tag": "ABX9TyNsPOhGDkWJN8h3c+vTimKG",
      "include_colab_link": true
    },
    "kernelspec": {
      "name": "python3",
      "display_name": "Python 3"
    },
    "language_info": {
      "name": "python"
    }
  },
  "cells": [
    {
      "cell_type": "markdown",
      "metadata": {
        "id": "view-in-github",
        "colab_type": "text"
      },
      "source": [
        "<a href=\"https://colab.research.google.com/github/anushkadasgupta/Image-Dispay-and-Processing-with-Qt-Widgets-and-OpenCV/blob/main/Untitled5.ipynb\" target=\"_parent\"><img src=\"https://colab.research.google.com/assets/colab-badge.svg\" alt=\"Open In Colab\"/></a>"
      ]
    },
    {
      "cell_type": "code",
      "execution_count": 20,
      "metadata": {
        "colab": {
          "base_uri": "https://localhost:8080/"
        },
        "id": "fQ8L9Y0xpKt_",
        "outputId": "2258b3bc-c331-4533-d085-9ed387879406"
      },
      "outputs": [
        {
          "output_type": "stream",
          "name": "stdout",
          "text": [
            "Requirement already satisfied: flask in /usr/local/lib/python3.10/dist-packages (2.2.5)\n",
            "Requirement already satisfied: Werkzeug>=2.2.2 in /usr/local/lib/python3.10/dist-packages (from flask) (3.0.1)\n",
            "Requirement already satisfied: Jinja2>=3.0 in /usr/local/lib/python3.10/dist-packages (from flask) (3.1.3)\n",
            "Requirement already satisfied: itsdangerous>=2.0 in /usr/local/lib/python3.10/dist-packages (from flask) (2.1.2)\n",
            "Requirement already satisfied: click>=8.0 in /usr/local/lib/python3.10/dist-packages (from flask) (8.1.7)\n",
            "Requirement already satisfied: MarkupSafe>=2.0 in /usr/local/lib/python3.10/dist-packages (from Jinja2>=3.0->flask) (2.1.5)\n"
          ]
        }
      ],
      "source": [
        "import cv2  # Defining the required python libraries\n",
        "import cv2 as cv\n",
        "import numpy as np\n",
        "import pandas as pd\n",
        "import matplotlib.pyplot as plt\n",
        "import sys # It lets us access system-specific parameters and functions\n",
        "from google.colab.patches import cv2_imshow\n",
        "!pip install flask # installing flask in colab\n",
        "from flask import Flask, render_template # Python's web framework for creating applications\n",
        "from ipywidgets import Button, FloatSlider # interactive HTML widgets for Jupyter notebooks and the IPython kernel\n",
        "\n",
        "# Define default video source (In case of webcam put 0 else replace with actual path of the video)\n",
        "# Here I am using the actual path of the video\n",
        "\n",
        "# Create a VideoCapture object and read from input file\n",
        "cap = cv2.VideoCapture('/content/158388 (360p).mp4')\n",
        "\n",
        "# Check if camera opened successfully\n",
        "if (cap.isOpened()== False):\n",
        "\tprint(\"Error opening video file\")\n",
        "\n",
        "# Read until video is completed\n",
        "while(cap.isOpened()):\n",
        "\n",
        "# Capture frame-by-frame\n",
        "\tret, frame = cap.read()\n",
        "\tif ret == True:\n",
        "\t# Display the resulting frame\n",
        "\t\tcv2_imshow('Frame', frame)\n",
        "\n",
        "\t# Press Q on keyboard to exit\n",
        "\t\tif cv2.waitKey(25) & 0xFF == ord('q'):\n",
        "\t\t\tbreak\n",
        "\n",
        "# Break the loop\n",
        "\telse:\n",
        "\t\tbreak\n",
        "\n",
        "# When everything done, release\n",
        "# the video capture object\n",
        "cap.release()\n",
        "\n",
        "# Closes all the frames\n",
        "cv2.destroyAllWindows()\n",
        "\n",
        "\n",
        "\n",
        "\n",
        "\n",
        "\n",
        "\n",
        "\n"
      ]
    },
    {
      "cell_type": "code",
      "source": [],
      "metadata": {
        "id": "kn4FGll5g02d"
      },
      "execution_count": null,
      "outputs": []
    },
    {
      "cell_type": "code",
      "source": [],
      "metadata": {
        "id": "LYjBR32ug1pt"
      },
      "execution_count": null,
      "outputs": []
    },
    {
      "cell_type": "markdown",
      "source": [
        "# New section"
      ],
      "metadata": {
        "id": "l6O1Xvi4SWI8"
      }
    },
    {
      "cell_type": "code",
      "source": [],
      "metadata": {
        "id": "f5CE6B2T_TRU"
      },
      "execution_count": null,
      "outputs": []
    }
  ]
}